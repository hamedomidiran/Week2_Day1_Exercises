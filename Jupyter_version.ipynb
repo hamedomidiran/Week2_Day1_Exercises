{
 "cells": [
  {
   "cell_type": "code",
   "execution_count": 1,
   "metadata": {},
   "outputs": [],
   "source": [
    "def calculator(a,b):\n",
    "    print('The following calculations are available for you to perform \\n\\n'\n",
    "          '- addition of a and b \\n'\n",
    "          '- subtraction of a from b \\n'\n",
    "          '- subtraction of b from a \\n'\n",
    "          '- division of a by b \\n'\n",
    "          '- division of b by a \\n'\n",
    "          '- multiplication of a and b \\n'\n",
    "          '- a to the power of b \\n'\n",
    "          '- b to the power of a \\n')\n",
    "    \n",
    "    Done =    \"No\"\n",
    "    \n",
    "    while Done == \"No\" or Done == \"no\":\n",
    "        calculation = input(\"What calculation would you like to perform?     \")\n",
    "        \n",
    "        if calculation.lower()   == 'addition of a and b':\n",
    "            print(a+b)\n",
    "        elif calculation.lower() == 'subtraction of a from b':\n",
    "            print(b-a)\n",
    "        elif calculation.lower() == 'subtraction of b from a':\n",
    "            print(a-b)\n",
    "        elif calculation.lower() == 'division of a by b':\n",
    "            print(a/b)\n",
    "        elif calculation.lower() == 'division of b by a':\n",
    "            print(b/a)\n",
    "        elif calculation.lower() == 'multiplication of a and b':\n",
    "            print(a*b)\n",
    "        elif calculation.lower() == 'a to the power of b':\n",
    "            print(a**b)\n",
    "        elif calculation.lower() == 'b to the power of a':\n",
    "            print(b**a)\n",
    "        else:\n",
    "            print ('\\n Sorry, That calculation is not in our directory')\n",
    "            \n",
    "            \n",
    "        Done = input(\"Are you done with your calculations?     \")"
   ]
  },
  {
   "cell_type": "code",
   "execution_count": 2,
   "metadata": {},
   "outputs": [
    {
     "name": "stdout",
     "output_type": "stream",
     "text": [
      "The following calculations are available for you to perform \n",
      "\n",
      "- addition of a and b \n",
      "- subtraction of a from b \n",
      "- subtraction of b from a \n",
      "- division of a by b \n",
      "- division of b by a \n",
      "- multiplication of a and b \n",
      "- a to the power of b \n",
      "- b to the power of a \n",
      "\n",
      "What calculation would you like to perform?     addition of a and b\n",
      "12\n",
      "Are you done with your calculations?     no\n",
      "What calculation would you like to perform?     division\n",
      "\n",
      " Sorry, That calculation is not in our directory\n",
      "Are you done with your calculations?     yes\n"
     ]
    }
   ],
   "source": [
    "calculator(5,7)"
   ]
  },
  {
   "cell_type": "code",
   "execution_count": 3,
   "metadata": {},
   "outputs": [],
   "source": [
    "def pyramid(n):\n",
    "    num_of_levels = n\n",
    "    \n",
    "    for num in range(n):\n",
    "        if num != 0:\n",
    "            left_space = num_of_levels-(num)\n",
    "            print((left_space*' ')+(\"X \"*num))\n",
    "    \n",
    "    print(\"X \"* (n))"
   ]
  },
  {
   "cell_type": "code",
   "execution_count": 4,
   "metadata": {},
   "outputs": [
    {
     "name": "stdout",
     "output_type": "stream",
     "text": [
      "                   X \n",
      "                  X X \n",
      "                 X X X \n",
      "                X X X X \n",
      "               X X X X X \n",
      "              X X X X X X \n",
      "             X X X X X X X \n",
      "            X X X X X X X X \n",
      "           X X X X X X X X X \n",
      "          X X X X X X X X X X \n",
      "         X X X X X X X X X X X \n",
      "        X X X X X X X X X X X X \n",
      "       X X X X X X X X X X X X X \n",
      "      X X X X X X X X X X X X X X \n",
      "     X X X X X X X X X X X X X X X \n",
      "    X X X X X X X X X X X X X X X X \n",
      "   X X X X X X X X X X X X X X X X X \n",
      "  X X X X X X X X X X X X X X X X X X \n",
      " X X X X X X X X X X X X X X X X X X X \n",
      "X X X X X X X X X X X X X X X X X X X X \n"
     ]
    }
   ],
   "source": [
    "pyramid(20)"
   ]
  }
 ],
 "metadata": {
  "kernelspec": {
   "display_name": "Python 3",
   "language": "python",
   "name": "python3"
  },
  "language_info": {
   "codemirror_mode": {
    "name": "ipython",
    "version": 3
   },
   "file_extension": ".py",
   "mimetype": "text/x-python",
   "name": "python",
   "nbconvert_exporter": "python",
   "pygments_lexer": "ipython3",
   "version": "3.7.6"
  }
 },
 "nbformat": 4,
 "nbformat_minor": 4
}
